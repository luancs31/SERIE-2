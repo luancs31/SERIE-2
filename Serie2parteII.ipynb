{
  "nbformat": 4,
  "nbformat_minor": 0,
  "metadata": {
    "colab": {
      "provenance": [],
      "include_colab_link": true
    },
    "kernelspec": {
      "name": "python3",
      "display_name": "Python 3"
    },
    "language_info": {
      "name": "python"
    }
  },
  "cells": [
    {
      "cell_type": "markdown",
      "metadata": {
        "id": "view-in-github",
        "colab_type": "text"
      },
      "source": [
        "<a href=\"https://colab.research.google.com/github/luancs31/SERIE-2/blob/main/Serie2parteII.ipynb\" target=\"_parent\"><img src=\"https://colab.research.google.com/assets/colab-badge.svg\" alt=\"Open In Colab\"/></a>"
      ]
    },
    {
      "cell_type": "markdown",
      "source": [
        "Nombre: Carolina Sustaita de luna\n",
        "\n"
      ],
      "metadata": {
        "id": "PFRFNLpXAZLu"
      }
    },
    {
      "cell_type": "markdown",
      "source": [
        "** IPN y la creadora del presente notebook, no guarda relación alguna con las marcas mencionadas como ejemplo. Las marcas son propiedad de sus titulares conforme a la legislación aplicable, se utilizan con fines académicos y didácticos, por lo que no existen fines de lucro, relación publicitaria o de patrocinio."
      ],
      "metadata": {
        "id": "qiGCS4A3AYFv"
      }
    },
    {
      "cell_type": "markdown",
      "source": [
        "# Ejercicio 1"
      ],
      "metadata": {
        "id": "ebGv-BC1AoK1"
      }
    },
    {
      "cell_type": "code",
      "execution_count": null,
      "metadata": {
        "colab": {
          "base_uri": "https://localhost:8080/"
        },
        "id": "fp4KC9mC_9Jm",
        "outputId": "40913a44-4a91-43a5-aecf-50a0fa5f3b9e"
      },
      "outputs": [
        {
          "output_type": "stream",
          "name": "stdout",
          "text": [
            "El máximo valor de pescado que el pescador puede atrapar es: 25\n"
          ]
        }
      ],
      "source": [
        "def max_valor_pescado(A):\n",
        "    n = len(A) // 2\n",
        "    m = len(A[0])\n",
        "\n",
        "    # Creamos una matriz para almacenar los resultados intermedios\n",
        "    dp = [[0] * (m + 1) for _ in range(n + 1)]\n",
        "\n",
        "    # Llenamos la matriz dp utilizando programación dinámica\n",
        "    for i in range(1, n + 1):\n",
        "        for j in range(1, m + 1):\n",
        "            dp[i][j] = A[i - 1][j - 1] + max(dp[i - 1][j], dp[i][j - 1])\n",
        "\n",
        "    # El resultado final estará en la esquina inferior derecha de la matriz dp\n",
        "    return dp[n][m]\n",
        "\n",
        "# Ejemplo de uso\n",
        "A = [\n",
        "    [1, 2, 5, 9],\n",
        "    [3, 4, 6, 8],\n",
        "    [7, 1, 2, 3],\n",
        "    [2, 3, 4, 5]\n",
        "]\n",
        "\n",
        "resultado = max_valor_pescado(A)\n",
        "print(\"El máximo valor de pescado que el pescador puede atrapar es:\", resultado)"
      ]
    },
    {
      "cell_type": "markdown",
      "source": [
        "#Ejercicio 5"
      ],
      "metadata": {
        "id": "vJOAONrvDN7N"
      }
    },
    {
      "cell_type": "code",
      "source": [
        "def mochila_fraccionaria(n, M, pesos, valores):\n",
        "    # Calcula el valor por unidad de peso para cada tesoro\n",
        "    ratios = [(valores[i] / pesos[i], i) for i in range(n)]\n",
        "\n",
        "    # Ordena los tesoros en orden descendente según su valor por unidad de peso\n",
        "    ratios.sort(reverse=True)\n",
        "\n",
        "    # Inicializa la mochila\n",
        "    capacidad_actual = M\n",
        "    valor_total = 0\n",
        "    mochila = [0] * n\n",
        "\n",
        "    # Llena la mochila con tesoros\n",
        "    for ratio, i in ratios:\n",
        "        cantidad = min(capacidad_actual, pesos[i])\n",
        "        valor_total += cantidad * ratio\n",
        "        mochila[i] = cantidad\n",
        "        capacidad_actual -= cantidad\n",
        "\n",
        "    return valor_total, mochila\n",
        "\n",
        "# Ejemplo de uso\n",
        "n = 3\n",
        "M = 50\n",
        "pesos = [10, 20, 30]\n",
        "valores = [60, 100, 120]\n",
        "\n",
        "valor, mochila = mochila_fraccionaria(n, M, pesos, valores)\n",
        "\n",
        "print(\"Valor máximo obtenido:\", valor)\n",
        "print(\"Distribución de la mochila:\", mochila)"
      ],
      "metadata": {
        "colab": {
          "base_uri": "https://localhost:8080/"
        },
        "id": "L55wcDjiDPvf",
        "outputId": "2f0a97b3-88ad-4635-8453-722e4238f7cc"
      },
      "execution_count": null,
      "outputs": [
        {
          "output_type": "stream",
          "name": "stdout",
          "text": [
            "Valor máximo obtenido: 240.0\n",
            "Distribución de la mochila: [10, 20, 20]\n"
          ]
        }
      ]
    },
    {
      "cell_type": "markdown",
      "source": [
        "#Ejercicio 5 **mejorado**"
      ],
      "metadata": {
        "id": "f56tET31E9Hf"
      }
    },
    {
      "cell_type": "code",
      "source": [
        "def mochila_fraccionaria_optimizada(n, M, pesos, valores):\n",
        "    # Inicializa la mochila\n",
        "    capacidad_actual = M\n",
        "    valor_total = 0\n",
        "    mochila = [0] * n\n",
        "\n",
        "    # Itera sobre los tesoros y los añade a la mochila según su valor por unidad de peso\n",
        "    for i in range(n):\n",
        "        cantidad = min(capacidad_actual, pesos[i])\n",
        "        valor_total += cantidad * (valores[i] / pesos[i])\n",
        "        mochila[i] = cantidad\n",
        "        capacidad_actual -= cantidad\n",
        "\n",
        "    return valor_total, mochila\n",
        "\n",
        "# Ejemplo de uso\n",
        "n = 3\n",
        "M = 50\n",
        "pesos = [10, 20, 30]\n",
        "valores = [60, 100, 120]\n",
        "\n",
        "valor, mochila = mochila_fraccionaria_optimizada(n, M, pesos, valores)\n",
        "\n",
        "print(\"Valor máximo obtenido:\", valor)\n",
        "print(\"Distribución de la mochila:\", mochila)\n"
      ],
      "metadata": {
        "colab": {
          "base_uri": "https://localhost:8080/"
        },
        "id": "4JXyvWNAFCMO",
        "outputId": "db26df32-8df0-4218-a387-08f63f1c7c81"
      },
      "execution_count": null,
      "outputs": [
        {
          "output_type": "stream",
          "name": "stdout",
          "text": [
            "Valor máximo obtenido: 240.0\n",
            "Distribución de la mochila: [10, 20, 20]\n"
          ]
        }
      ]
    },
    {
      "cell_type": "markdown",
      "source": [
        "#Explicación:\n",
        "\n",
        "El primer algoritmo voraz tiene una complejidad de tiempo de Θ(n log n) debido a la clasificación de los tesoros según su valor por unidad de peso.\n",
        "El segundo algoritmo mejora la complejidad de tiempo a Θ(n) al eliminar la clasificación previa y simplemente iterar sobre los tesoros una vez.\n",
        "Es importante mencionar que este enfoque voraz asume que se pueden tomar fracciones de los tesoros, lo que es válido según la descripción del problema"
      ],
      "metadata": {
        "id": "F7DkTZ6CFZXf"
      }
    },
    {
      "cell_type": "markdown",
      "source": [
        "# Nota: Queda pendiente determinar tiempo de ejecución como en los ejercicios de la serie 1"
      ],
      "metadata": {
        "id": "WmgfWnyVFlBf"
      }
    },
    {
      "cell_type": "markdown",
      "source": [
        "#ejercicio 6\n",
        "Pasarlo a mano para comprender el patron, no hay programa"
      ],
      "metadata": {
        "id": "VrgNpdakIC7Y"
      }
    },
    {
      "cell_type": "markdown",
      "source": [
        "#Ejercicio 8"
      ],
      "metadata": {
        "id": "ENoRJ7hdIKON"
      }
    },
    {
      "cell_type": "code",
      "source": [
        "def cambio_greedy(monedas, cantidad):\n",
        "    monedas.sort(reverse=True)  # Ordenamos las monedas de mayor a menor denominación\n",
        "    cambio = []\n",
        "\n",
        "    for moneda in monedas:\n",
        "        while cantidad >= moneda:\n",
        "            cantidad -= moneda\n",
        "            cambio.append(moneda)\n",
        "\n",
        "    return cambio\n",
        "\n",
        "def prueba_cambio(monedas, cantidad):\n",
        "    cambio_optimo = cambio_greedy(monedas, cantidad)\n",
        "\n",
        "    print(f\"Para dar cambio de {cantidad} unidades con monedas {monedas}:\")\n",
        "    print(f\"Solución del algoritmo glotón: {cambio_optimo}\")\n",
        "    print(f\"Número de monedas: {len(cambio_optimo)}\")\n",
        "\n",
        "# a) Monedas de Estados Unidos\n",
        "monedas_usa = [50, 25, 20, 5, 1]\n",
        "prueba_cambio(monedas_usa, 63)\n",
        "\n",
        "# b) Monedas Inglesas antes de la decimalización\n",
        "monedas_inglesas = [30, 24, 12, 6, 3, 1, 0.5, 0.25]\n",
        "prueba_cambio(monedas_inglesas, 48)\n",
        "\n",
        "# c) Monedas portuguesas\n",
        "monedas_portuguesas = [1, 2.5, 5, 10, 20, 25, 50]\n",
        "prueba_cambio(monedas_portuguesas, 37)\n",
        "\n",
        "# d) Monedas marcianas\n",
        "# Consideremos un ejemplo específico: p=5, k=3\n",
        "monedas_marcianas = [1, 5, 25, 125]\n",
        "prueba_cambio(monedas_marcianas, 18)"
      ],
      "metadata": {
        "colab": {
          "base_uri": "https://localhost:8080/"
        },
        "id": "bCyKX71zIJDX",
        "outputId": "2637cfa4-e005-48a7-a8c5-36f96f4c2c7d"
      },
      "execution_count": null,
      "outputs": [
        {
          "output_type": "stream",
          "name": "stdout",
          "text": [
            "Para dar cambio de 63 unidades con monedas [50, 25, 20, 5, 1]:\n",
            "Solución del algoritmo glotón: [50, 5, 5, 1, 1, 1]\n",
            "Número de monedas: 6\n",
            "Para dar cambio de 48 unidades con monedas [30, 24, 12, 6, 3, 1, 0.5, 0.25]:\n",
            "Solución del algoritmo glotón: [30, 12, 6]\n",
            "Número de monedas: 3\n",
            "Para dar cambio de 37 unidades con monedas [50, 25, 20, 10, 5, 2.5, 1]:\n",
            "Solución del algoritmo glotón: [25, 10, 1, 1]\n",
            "Número de monedas: 4\n",
            "Para dar cambio de 18 unidades con monedas [125, 25, 5, 1]:\n",
            "Solución del algoritmo glotón: [5, 5, 5, 1, 1, 1]\n",
            "Número de monedas: 6\n"
          ]
        }
      ]
    },
    {
      "cell_type": "markdown",
      "source": [
        "Este código implementa el algoritmo glotón para dar cambio y realiza pruebas para los casos a, b, c y d. Ahora, analicemos cada caso:\n",
        "\n",
        "a) Monedas de Estados Unidos: El algoritmo glotón funciona correctamente, ya que las monedas tienen denominaciones que son múltiplos de las monedas de menor valor.\n",
        "\n",
        "b) Monedas Inglesas antes de la decimalización: El algoritmo glotón también funciona correctamente para este caso.\n",
        "\n",
        "c) Monedas portuguesas: El algoritmo glotón no siempre proporciona la solución óptima para este caso, ya que no siempre seleccionará la moneda de 2.5 escudos de manera óptima.\n",
        "\n",
        "d) Monedas marcianas: El algoritmo glotón puede no proporcionar la solución óptima en general, ya que no siempre seleccionará las monedas de manera óptima para cualquier conjunto de monedas marcianas. En el ejemplo específico proporcionado, el algoritmo glotón no da la solución óptima.\n",
        "\n",
        "Es importante tener en cuenta que el algoritmo glotón no siempre garantiza la solución óptima, y su efectividad depende de la naturaleza de las monedas disponibles.\n",
        "\n",
        "\n"
      ],
      "metadata": {
        "id": "i22-r3Q7ITPR"
      }
    },
    {
      "cell_type": "code",
      "source": [],
      "metadata": {
        "id": "R6lZbbJAITGH"
      },
      "execution_count": null,
      "outputs": []
    },
    {
      "cell_type": "markdown",
      "source": [
        "# Ejercicio 9"
      ],
      "metadata": {
        "id": "vXZmO0dKFHNv"
      }
    },
    {
      "cell_type": "code",
      "source": [
        "def find_shortest_sequence(T, R):\n",
        "    def symmetric_difference(A, B):\n",
        "        return (A - B) | (B - A)\n",
        "\n",
        "    def add_and_remove_edge(tree, delta):\n",
        "        # Suponemos que delta contiene dos aristas: una para agregar y otra para eliminar\n",
        "        if len(delta) != 2:\n",
        "            raise ValueError(\"Delta debe contener exactamente dos aristas.\")\n",
        "\n",
        "        # Eliminar la arista a quitar\n",
        "        new_tree = tree - {delta[1]}\n",
        "\n",
        "        # Agregar la nueva arista\n",
        "        new_tree.add(delta[0])\n",
        "\n",
        "        return new_tree\n",
        "\n",
        "    sequence = [T]\n",
        "\n",
        "    while sequence[-1] != R:\n",
        "        delta = symmetric_difference(sequence[-1], R)\n",
        "        new_tree = add_and_remove_edge(sequence[-1], delta)\n",
        "        sequence.append(new_tree)\n",
        "\n",
        "    return sequence\n",
        "\n",
        "# Ejemplo de uso\n",
        "T = {(1, 2), (2, 3), (3, 4), (4, 5)}\n",
        "R = {(1, 2), (2, 3), (3, 5), (5, 6)}\n",
        "\n",
        "shortest_sequence = find_shortest_sequence(T, R)\n",
        "for i, tree in enumerate(shortest_sequence):\n",
        "    print(f'T{i}: {tree}')\n"
      ],
      "metadata": {
        "colab": {
          "base_uri": "https://localhost:8080/",
          "height": 390
        },
        "id": "CNr72gJFFtof",
        "outputId": "b6a236be-7504-4a75-c384-85860dd5f8db"
      },
      "execution_count": null,
      "outputs": [
        {
          "output_type": "error",
          "ename": "ValueError",
          "evalue": "ignored",
          "traceback": [
            "\u001b[0;31m---------------------------------------------------------------------------\u001b[0m",
            "\u001b[0;31mValueError\u001b[0m                                Traceback (most recent call last)",
            "\u001b[0;32m<ipython-input-7-8eb9624923a4>\u001b[0m in \u001b[0;36m<cell line: 31>\u001b[0;34m()\u001b[0m\n\u001b[1;32m     29\u001b[0m \u001b[0mR\u001b[0m \u001b[0;34m=\u001b[0m \u001b[0;34m{\u001b[0m\u001b[0;34m(\u001b[0m\u001b[0;36m1\u001b[0m\u001b[0;34m,\u001b[0m \u001b[0;36m2\u001b[0m\u001b[0;34m)\u001b[0m\u001b[0;34m,\u001b[0m \u001b[0;34m(\u001b[0m\u001b[0;36m2\u001b[0m\u001b[0;34m,\u001b[0m \u001b[0;36m3\u001b[0m\u001b[0;34m)\u001b[0m\u001b[0;34m,\u001b[0m \u001b[0;34m(\u001b[0m\u001b[0;36m3\u001b[0m\u001b[0;34m,\u001b[0m \u001b[0;36m5\u001b[0m\u001b[0;34m)\u001b[0m\u001b[0;34m,\u001b[0m \u001b[0;34m(\u001b[0m\u001b[0;36m5\u001b[0m\u001b[0;34m,\u001b[0m \u001b[0;36m6\u001b[0m\u001b[0;34m)\u001b[0m\u001b[0;34m}\u001b[0m\u001b[0;34m\u001b[0m\u001b[0;34m\u001b[0m\u001b[0m\n\u001b[1;32m     30\u001b[0m \u001b[0;34m\u001b[0m\u001b[0m\n\u001b[0;32m---> 31\u001b[0;31m \u001b[0mshortest_sequence\u001b[0m \u001b[0;34m=\u001b[0m \u001b[0mfind_shortest_sequence\u001b[0m\u001b[0;34m(\u001b[0m\u001b[0mT\u001b[0m\u001b[0;34m,\u001b[0m \u001b[0mR\u001b[0m\u001b[0;34m)\u001b[0m\u001b[0;34m\u001b[0m\u001b[0;34m\u001b[0m\u001b[0m\n\u001b[0m\u001b[1;32m     32\u001b[0m \u001b[0;32mfor\u001b[0m \u001b[0mi\u001b[0m\u001b[0;34m,\u001b[0m \u001b[0mtree\u001b[0m \u001b[0;32min\u001b[0m \u001b[0menumerate\u001b[0m\u001b[0;34m(\u001b[0m\u001b[0mshortest_sequence\u001b[0m\u001b[0;34m)\u001b[0m\u001b[0;34m:\u001b[0m\u001b[0;34m\u001b[0m\u001b[0;34m\u001b[0m\u001b[0m\n\u001b[1;32m     33\u001b[0m     \u001b[0mprint\u001b[0m\u001b[0;34m(\u001b[0m\u001b[0;34mf'T{i}: {tree}'\u001b[0m\u001b[0;34m)\u001b[0m\u001b[0;34m\u001b[0m\u001b[0;34m\u001b[0m\u001b[0m\n",
            "\u001b[0;32m<ipython-input-7-8eb9624923a4>\u001b[0m in \u001b[0;36mfind_shortest_sequence\u001b[0;34m(T, R)\u001b[0m\n\u001b[1;32m     20\u001b[0m     \u001b[0;32mwhile\u001b[0m \u001b[0msequence\u001b[0m\u001b[0;34m[\u001b[0m\u001b[0;34m-\u001b[0m\u001b[0;36m1\u001b[0m\u001b[0;34m]\u001b[0m \u001b[0;34m!=\u001b[0m \u001b[0mR\u001b[0m\u001b[0;34m:\u001b[0m\u001b[0;34m\u001b[0m\u001b[0;34m\u001b[0m\u001b[0m\n\u001b[1;32m     21\u001b[0m         \u001b[0mdelta\u001b[0m \u001b[0;34m=\u001b[0m \u001b[0msymmetric_difference\u001b[0m\u001b[0;34m(\u001b[0m\u001b[0msequence\u001b[0m\u001b[0;34m[\u001b[0m\u001b[0;34m-\u001b[0m\u001b[0;36m1\u001b[0m\u001b[0;34m]\u001b[0m\u001b[0;34m,\u001b[0m \u001b[0mR\u001b[0m\u001b[0;34m)\u001b[0m\u001b[0;34m\u001b[0m\u001b[0;34m\u001b[0m\u001b[0m\n\u001b[0;32m---> 22\u001b[0;31m         \u001b[0mnew_tree\u001b[0m \u001b[0;34m=\u001b[0m \u001b[0madd_and_remove_edge\u001b[0m\u001b[0;34m(\u001b[0m\u001b[0msequence\u001b[0m\u001b[0;34m[\u001b[0m\u001b[0;34m-\u001b[0m\u001b[0;36m1\u001b[0m\u001b[0;34m]\u001b[0m\u001b[0;34m,\u001b[0m \u001b[0mdelta\u001b[0m\u001b[0;34m)\u001b[0m\u001b[0;34m\u001b[0m\u001b[0;34m\u001b[0m\u001b[0m\n\u001b[0m\u001b[1;32m     23\u001b[0m         \u001b[0msequence\u001b[0m\u001b[0;34m.\u001b[0m\u001b[0mappend\u001b[0m\u001b[0;34m(\u001b[0m\u001b[0mnew_tree\u001b[0m\u001b[0;34m)\u001b[0m\u001b[0;34m\u001b[0m\u001b[0;34m\u001b[0m\u001b[0m\n\u001b[1;32m     24\u001b[0m \u001b[0;34m\u001b[0m\u001b[0m\n",
            "\u001b[0;32m<ipython-input-7-8eb9624923a4>\u001b[0m in \u001b[0;36madd_and_remove_edge\u001b[0;34m(tree, delta)\u001b[0m\n\u001b[1;32m      6\u001b[0m         \u001b[0;31m# Suponemos que delta contiene dos aristas: una para agregar y otra para eliminar\u001b[0m\u001b[0;34m\u001b[0m\u001b[0;34m\u001b[0m\u001b[0m\n\u001b[1;32m      7\u001b[0m         \u001b[0;32mif\u001b[0m \u001b[0mlen\u001b[0m\u001b[0;34m(\u001b[0m\u001b[0mdelta\u001b[0m\u001b[0;34m)\u001b[0m \u001b[0;34m!=\u001b[0m \u001b[0;36m2\u001b[0m\u001b[0;34m:\u001b[0m\u001b[0;34m\u001b[0m\u001b[0;34m\u001b[0m\u001b[0m\n\u001b[0;32m----> 8\u001b[0;31m             \u001b[0;32mraise\u001b[0m \u001b[0mValueError\u001b[0m\u001b[0;34m(\u001b[0m\u001b[0;34m\"Delta debe contener exactamente dos aristas.\"\u001b[0m\u001b[0;34m)\u001b[0m\u001b[0;34m\u001b[0m\u001b[0;34m\u001b[0m\u001b[0m\n\u001b[0m\u001b[1;32m      9\u001b[0m \u001b[0;34m\u001b[0m\u001b[0m\n\u001b[1;32m     10\u001b[0m         \u001b[0;31m# Eliminar la arista a quitar\u001b[0m\u001b[0;34m\u001b[0m\u001b[0;34m\u001b[0m\u001b[0m\n",
            "\u001b[0;31mValueError\u001b[0m: Delta debe contener exactamente dos aristas."
          ]
        }
      ]
    },
    {
      "cell_type": "code",
      "source": [
        "def cover_board_with_dominos(n):\n",
        "    # Verificar si el tamaño del tablero es par\n",
        "    if n % 2 != 0:\n",
        "        print(\"El tamaño del tablero debe ser par para cubrirlo con dominós.\")\n",
        "        return\n",
        "\n",
        "    # Implementar lógica para cubrir el tablero con dominós\n",
        "    # Puedes representar el tablero como una matriz y asignar dominós a pares de coordenadas\n",
        "    pass\n",
        "\n",
        "# Llamada a la función\n",
        "\n",
        "cover_board_with_dominos(4)  # Ejemplo, reemplazar con el tamaño deseado\n"
      ],
      "metadata": {
        "id": "a8e7apScFOjl"
      },
      "execution_count": null,
      "outputs": []
    },
    {
      "cell_type": "code",
      "source": [
        "def cover_remaining_board_after_removal(n):\n",
        "    # Verificar si el tamaño del tablero es par\n",
        "    if n % 2 != 0:\n",
        "        print(\"El tamaño del tablero debe ser par para cubrirlo con dominós después de la eliminación.\")\n",
        "        return\n",
        "\n",
        "    # Implementar lógica para cubrir el tablero después de la eliminación de esquinas\n",
        "    # Puedes representar el tablero como una matriz y asignar dominós a pares de coordenadas\n",
        "    pass\n",
        "\n",
        "# Llamada a la función\n",
        "cover_remaining_board_after_removal(4)  # Ejemplo, reemplazar con el tamaño deseado\n"
      ],
      "metadata": {
        "id": "9delGbYRFpOY"
      },
      "execution_count": null,
      "outputs": []
    },
    {
      "cell_type": "markdown",
      "source": [
        "# Ejercicio 10"
      ],
      "metadata": {
        "id": "bT_AzXweFJUL"
      }
    },
    {
      "cell_type": "code",
      "source": [
        "def cubrir_tablero_damas(n):\n",
        "    # Verificar que n sea par para un tablero de damas estándar\n",
        "    if n % 2 != 0:\n",
        "        raise ValueError(\"n debe ser par para un tablero de damas estándar.\")\n",
        "\n",
        "    # Inicializar el tablero de damas con casillas alternadas 'B' (negro) y 'W' (blanco)\n",
        "    tablero = [['B' if (i + j) % 2 == 0 else 'W' for j in range(n)] for i in range(n)]\n",
        "\n",
        "    # Función para imprimir el tablero\n",
        "    def imprimir_tablero():\n",
        "        for fila in tablero:\n",
        "            print(\" \".join(fila))\n",
        "        print()\n",
        "\n",
        "    # Función para cubrir el tablero con dominós\n",
        "    def cubrir_con_dominos():\n",
        "        for i in range(0, n, 2):\n",
        "            for j in range(0, n, 2):\n",
        "                # Colocar dominós horizontalmente\n",
        "                tablero[i][j] = 'D'\n",
        "                tablero[i][j + 1] = 'D'\n",
        "                # Colocar dominós verticalmente\n",
        "                tablero[i + 1][j] = 'D'\n",
        "                tablero[i + 1][j + 1] = 'D'\n",
        "\n",
        "    # Cubrir el tablero con dominós\n",
        "    cubrir_con_dominos()\n",
        "\n",
        "    # Imprimir el tablero resultante\n",
        "    imprimir_tablero()\n",
        "\n",
        "# Ejemplo de uso con un tablero de 4x4\n",
        "cubrir_tablero_damas(4)"
      ],
      "metadata": {
        "colab": {
          "base_uri": "https://localhost:8080/"
        },
        "id": "IbSgAdvnIFqN",
        "outputId": "3d3724c8-8946-4751-b87c-0332d7820028"
      },
      "execution_count": null,
      "outputs": [
        {
          "output_type": "stream",
          "name": "stdout",
          "text": [
            "D D D D\n",
            "D D D D\n",
            "D D D D\n",
            "D D D D\n",
            "\n"
          ]
        }
      ]
    },
    {
      "cell_type": "markdown",
      "source": [
        "\n",
        "\n",
        "1.   Inicializa un tablero de damas con casillas negras ('B') y blancas ('W') de manera alternada.\n",
        "2.   Cubre el tablero con dominós de tamaño 2×1 en un patrón que sigue las reglas de un tablero de damas.\n",
        "3.  Imprime el tablero resultante después de cubrirlo con dominós."
      ],
      "metadata": {
        "id": "YClMLn0_IbU6"
      }
    },
    {
      "cell_type": "markdown",
      "source": [
        "# Ejercicio 12"
      ],
      "metadata": {
        "id": "gU-k4aR1KYGN"
      }
    },
    {
      "cell_type": "code",
      "source": [
        "pip install networkx"
      ],
      "metadata": {
        "colab": {
          "base_uri": "https://localhost:8080/"
        },
        "id": "S-Uu4RmqKatJ",
        "outputId": "ffd5b154-297e-460e-b760-c4a42601184e"
      },
      "execution_count": null,
      "outputs": [
        {
          "output_type": "stream",
          "name": "stdout",
          "text": [
            "Requirement already satisfied: networkx in /usr/local/lib/python3.10/dist-packages (3.2.1)\n"
          ]
        }
      ]
    },
    {
      "cell_type": "code",
      "source": [
        "import networkx as nx\n",
        "\n",
        "def problema_flujo():\n",
        "    # Crear un grafo dirigido\n",
        "    G = nx.DiGraph()\n",
        "\n",
        "    # Agregar nodos (esquinas)\n",
        "    G.add_node(\"Casa\")\n",
        "    G.add_node(\"Escuela\")\n",
        "\n",
        "    # Agregar arcos (calles) y asignar capacidades\n",
        "    G.add_edge(\"Casa\", \"Esquina1\", capacity=1)\n",
        "    G.add_edge(\"Esquina1\", \"Esquina2\", capacity=2)\n",
        "    G.add_edge(\"Esquina2\", \"Escuela\", capacity=2)\n",
        "\n",
        "    # Aplicar el algoritmo de flujo máximo\n",
        "    flujo_maximo = nx.maximum_flow(G, \"Casa\", \"Escuela\")[0]\n",
        "\n",
        "    # Verificar si es posible enviar a ambos hijos a la misma escuela\n",
        "    if flujo_maximo >= 2:\n",
        "        print(\"Es posible enviar a ambos hijos a la misma escuela.\")\n",
        "    else:\n",
        "        print(\"No es posible enviar a ambos hijos a la misma escuela.\")\n",
        "\n",
        "# Ejecutar el algoritmo\n",
        "problema_flujo()"
      ],
      "metadata": {
        "colab": {
          "base_uri": "https://localhost:8080/"
        },
        "id": "ZXKfi6HYKXhp",
        "outputId": "f7893880-ff72-4670-c12f-06fbf7804f93"
      },
      "execution_count": null,
      "outputs": [
        {
          "output_type": "stream",
          "name": "stdout",
          "text": [
            "No es posible enviar a ambos hijos a la misma escuela.\n"
          ]
        }
      ]
    },
    {
      "cell_type": "markdown",
      "source": [
        "El resultado \"No es posible enviar a ambos hijos a la misma escuela\" tiene sentido en el contexto del problema modelado. En este caso, la capacidad de la calle entre \"Esquina1\" y \"Esquina2\" es de 2, lo que significa que, como máximo, dos personas pueden caminar en esa dirección. Dado que hay dos hijos que necesitan caminar desde la casa hasta la escuela, y ambos tienen restricciones sobre las aceras que pueden usar, el flujo máximo necesario es de al menos 2.\n",
        "\n",
        "El algoritmo de flujo máximo devuelve el flujo máximo posible en la red, y si ese flujo máximo es menor que la cantidad de hijos (en este caso, 2), entonces no sería posible enviar a ambos hijos a la misma escuela sin que alguno de ellos incumpla las restricciones."
      ],
      "metadata": {
        "id": "PlzYz-gGK5Rn"
      }
    }
  ]
}