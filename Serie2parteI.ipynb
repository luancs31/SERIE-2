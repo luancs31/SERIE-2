{
  "nbformat": 4,
  "nbformat_minor": 0,
  "metadata": {
    "colab": {
      "provenance": [],
      "include_colab_link": true
    },
    "kernelspec": {
      "name": "python3",
      "display_name": "Python 3"
    },
    "language_info": {
      "name": "python"
    }
  },
  "cells": [
    {
      "cell_type": "markdown",
      "metadata": {
        "id": "view-in-github",
        "colab_type": "text"
      },
      "source": [
        "<a href=\"https://colab.research.google.com/github/luancs31/SERIE-2/blob/main/Serie2parteI.ipynb\" target=\"_parent\"><img src=\"https://colab.research.google.com/assets/colab-badge.svg\" alt=\"Open In Colab\"/></a>"
      ]
    },
    {
      "cell_type": "markdown",
      "source": [
        "Nombre: Carolina Sustaita de Luna\n",
        "\n"
      ],
      "metadata": {
        "id": "q38LhYe6ARH2"
      }
    },
    {
      "cell_type": "markdown",
      "source": [
        "** IPN y la creadora del presente notebook, no guarda relación alguna con las marcas mencionadas como ejemplo. Las marcas son propiedad de sus titulares conforme a la legislación aplicable, se utilizan con fines académicos y didácticos, por lo que no existen fines de lucro, relación publicitaria o de patrocinio."
      ],
      "metadata": {
        "id": "gMbhLrJxAW3e"
      }
    },
    {
      "cell_type": "markdown",
      "source": [
        "# Ejercicio 2"
      ],
      "metadata": {
        "id": "XPrMzci5t7-d"
      }
    },
    {
      "cell_type": "code",
      "execution_count": null,
      "metadata": {
        "colab": {
          "base_uri": "https://localhost:8080/"
        },
        "id": "h3AEK8RVtj58",
        "outputId": "fb1cb5ce-996c-46ec-bb1a-9b37e30ad97b"
      },
      "outputs": [
        {
          "output_type": "stream",
          "name": "stdout",
          "text": [
            "Permutación ordenada: [1, 2, 3, 4, 5, 6]\n",
            "Número de inversiones: 3\n"
          ]
        }
      ],
      "source": [
        "def contar_inversiones(arr):\n",
        "    if len(arr) <= 1:\n",
        "        return arr, 0\n",
        "\n",
        "    mitad = len(arr) // 2\n",
        "    izquierda, inversiones_izquierda = contar_inversiones(arr[:mitad])\n",
        "    derecha, inversiones_derecha = contar_inversiones(arr[mitad:])\n",
        "    fusion, inversiones_fusion = merge(izquierda, derecha)\n",
        "\n",
        "    inversiones_totales = inversiones_izquierda + inversiones_derecha + inversiones_fusion\n",
        "\n",
        "    return fusion, inversiones_totales\n",
        "\n",
        "def merge(izquierda, derecha):\n",
        "    i = j = inversiones = 0\n",
        "    fusion = []\n",
        "\n",
        "    while i < len(izquierda) and j < len(derecha):\n",
        "        if izquierda[i] <= derecha[j]:\n",
        "            fusion.append(izquierda[i])\n",
        "            i += 1\n",
        "        else:\n",
        "            fusion.append(derecha[j])\n",
        "            inversiones += len(izquierda) - i\n",
        "            j += 1\n",
        "\n",
        "    fusion.extend(izquierda[i:])\n",
        "    fusion.extend(derecha[j:])\n",
        "\n",
        "    return fusion, inversiones\n",
        "\n",
        "# Ejemplo de uso:\n",
        "#arr = [2, 3, 8, 6, 1]\n",
        "arr = [1, 3, 5, 2, 4, 6]\n",
        "resultado, inversiones = contar_inversiones(arr)\n",
        "print(\"Permutación ordenada:\", resultado)\n",
        "print(\"Número de inversiones:\", inversiones)"
      ]
    },
    {
      "cell_type": "markdown",
      "source": [
        "## Nota: Queda pendiente determinar tiempo de ejecución como en los ejercicios de la serie 1"
      ],
      "metadata": {
        "id": "JvkUfq5S0-Rt"
      }
    },
    {
      "cell_type": "markdown",
      "source": [
        "# Ejercicio 4"
      ],
      "metadata": {
        "id": "icJ5kUxUxup9"
      }
    },
    {
      "cell_type": "markdown",
      "source": [
        "Este código utiliza un min heap para realizar un enfoque similar al algoritmo de fusión (merge). La idea es mantener un heap de los elementos más pequeños de cada lista y en cada paso, tomar el elemento más pequeño del heap, agregarlo al resultado final y luego insertar el siguiente elemento de la misma lista en el heap.\n",
        "\n",
        "La complejidad de este algoritmo es O(n log k), donde n es el número total de elementos en todas las listas y k es el número de listas. Esto se debe a que cada elemento se inserta y se extrae del heap al menos una vez, y el heap tiene un tamaño máximo de k."
      ],
      "metadata": {
        "id": "8XPW1vDJx2Gl"
      }
    },
    {
      "cell_type": "code",
      "source": [
        "import heapq\n",
        "\n",
        "def merge_k_sorted_lists(lists):\n",
        "    result = []\n",
        "    heap = []\n",
        "\n",
        "    # Inicializar el heap con el primer elemento de cada lista junto con su índice y valor.\n",
        "    for i, lst in enumerate(lists):\n",
        "        if lst:\n",
        "            heapq.heappush(heap, (lst[0], i, 0))\n",
        "\n",
        "    while heap:\n",
        "        val, list_index, element_index = heapq.heappop(heap)\n",
        "\n",
        "        # Agregar el valor al resultado final.\n",
        "        result.append(val)\n",
        "\n",
        "        # Mover al siguiente elemento de la lista actual si hay más elementos.\n",
        "        if element_index + 1 < len(lists[list_index]):\n",
        "            next_element = lists[list_index][element_index + 1]\n",
        "            heapq.heappush(heap, (next_element, list_index, element_index + 1))\n",
        "\n",
        "    return result\n",
        "\n",
        "# Ejemplo de uso:\n",
        "list1 = [34, 147, 718]\n",
        "list2 = [2, 5, 8]\n",
        "list3 = [3, 6, 9]\n",
        "\n",
        "result = merge_k_sorted_lists([list1, [2, 5, 8], [3, 6, 9]])\n",
        "print(\"Lista ordenada de los elementos:\", result)"
      ],
      "metadata": {
        "colab": {
          "base_uri": "https://localhost:8080/"
        },
        "id": "NcvbGm_cxrQm",
        "outputId": "706c206f-fa9b-49f1-f02a-bd91b1cff40a"
      },
      "execution_count": null,
      "outputs": [
        {
          "output_type": "stream",
          "name": "stdout",
          "text": [
            "Lista ordenada de los elementos: [2, 3, 5, 6, 8, 9, 34, 147, 718]\n"
          ]
        }
      ]
    },
    {
      "cell_type": "markdown",
      "source": [
        "## Nota: Queda pendiente determinar tiempo de ejecución como en los ejercicios de la serie 1"
      ],
      "metadata": {
        "id": "U_lfipBK0yde"
      }
    },
    {
      "cell_type": "markdown",
      "source": [
        "#Ejercicio 7"
      ],
      "metadata": {
        "id": "MMPGlcKU3DMW"
      }
    },
    {
      "cell_type": "code",
      "source": [
        "def buscar_kesimo_elemento(arr, k):\n",
        "    inicio, fin = 0, len(arr) - 1\n",
        "\n",
        "    while inicio <= fin:\n",
        "        medio = (inicio + fin) // 2\n",
        "\n",
        "        if arr[medio] == k:\n",
        "            return medio\n",
        "\n",
        "        # Caso 1: La mitad izquierda está ordenada\n",
        "        if arr[inicio] <= arr[medio]:\n",
        "            if arr[inicio] <= k <= arr[medio]:\n",
        "                fin = medio - 1\n",
        "            else:\n",
        "                inicio = medio + 1\n",
        "        # Caso 2: La mitad derecha está ordenada\n",
        "        else:\n",
        "            if arr[medio] <= k <= arr[fin]:\n",
        "                inicio = medio + 1\n",
        "            else:\n",
        "                fin = medio - 1\n",
        "\n",
        "    return -1  # Si no se encuentra el elemento\n",
        "\n",
        "# Ejemplo de uso:\n",
        "arreglo_rotado = [15, 16, 19, 20, 25, 1, 3, 4, 5, 7, 10, 14]\n",
        "#arreglo_rotado = [1, 3, 4, 5, 7, 10, 14, 15, 16, 19, 20, 25]\n",
        "k = 5\n",
        "resultado = buscar_kesimo_elemento(arreglo_rotado, k)\n",
        "\n",
        "if resultado != -1:\n",
        "    print(f\"El {k}-ésimo elemento es: {arreglo_rotado[resultado]}\")\n",
        "else:\n",
        "    print(\"Elemento no encontrado en el arreglo.\")"
      ],
      "metadata": {
        "colab": {
          "base_uri": "https://localhost:8080/"
        },
        "id": "CViCVVtQ3Fzn",
        "outputId": "a11b29a9-94ad-42b0-e73f-a62bc637cd0a"
      },
      "execution_count": null,
      "outputs": [
        {
          "output_type": "stream",
          "name": "stdout",
          "text": [
            "El 5-ésimo elemento es: 5\n"
          ]
        }
      ]
    },
    {
      "cell_type": "markdown",
      "source": [
        "#Ejercicio 8"
      ],
      "metadata": {
        "id": "yJ6aDBbdAide"
      }
    },
    {
      "cell_type": "code",
      "source": [
        "def encontrar_duplicado_y_faltante(arr):\n",
        "    n = len(arr)\n",
        "\n",
        "    # Encontrar el duplicado\n",
        "    duplicado = -1\n",
        "    for num in arr:\n",
        "        indice_actual = abs(num) - 1\n",
        "        if arr[indice_actual] < 0:\n",
        "            duplicado = abs(num)\n",
        "        else:\n",
        "            arr[indice_actual] = -arr[indice_actual]\n",
        "\n",
        "    # Encontrar el faltante\n",
        "    faltante = -1\n",
        "    for i, num in enumerate(arr):\n",
        "        if num > 0:\n",
        "            faltante = i + 1\n",
        "\n",
        "    return duplicado, faltante\n",
        "\n",
        "# Ejemplo de uso:\n",
        "arreglo = [3, 1, 3, 4, 2, 6,7,5,9]\n",
        "duplicado, faltante = encontrar_duplicado_y_faltante(arreglo)\n",
        "\n",
        "print(f\"El número duplicado es: {duplicado}\")\n",
        "print(f\"El número faltante es: {faltante}\")"
      ],
      "metadata": {
        "colab": {
          "base_uri": "https://localhost:8080/"
        },
        "id": "vNpKLaIuAe0Y",
        "outputId": "27883fd6-334a-42d2-9d29-af48c9116d4c"
      },
      "execution_count": null,
      "outputs": [
        {
          "output_type": "stream",
          "name": "stdout",
          "text": [
            "El número duplicado es: 3\n",
            "El número faltante es: 8\n"
          ]
        }
      ]
    },
    {
      "cell_type": "markdown",
      "source": [
        "##Versión optimizada"
      ],
      "metadata": {
        "id": "NsfXASUSBaKn"
      }
    },
    {
      "cell_type": "markdown",
      "source": [
        "En esta versión:\n",
        "\n",
        "**Reducción de variables**: He reducido el número de variables utilizadas para mejorar la claridad del código y hacerlo más conciso.\n",
        "\n",
        "**Eliminación de declaración innecesaria**: No es necesario inicializar las variables n y negativo fuera del bucle.\n",
        "\n",
        "En términos de complejidad temporal y espacial, sigue siendo O(n), ya que todavía recorremos el arreglo una vez para encontrar el duplicado y el faltante. La eficiencia adicional proviene principalmente de la simplificación del código y la reducción de variables innecesarias. En términos de tiempo y espacio, estas optimizaciones son mínimas, pero pueden hacer que el código sea más fácil de entender y mantener."
      ],
      "metadata": {
        "id": "27JrQYZYBgBG"
      }
    },
    {
      "cell_type": "code",
      "source": [
        "def encontrar_duplicado_y_faltante(arr):\n",
        "    duplicado, faltante = -1, -1\n",
        "\n",
        "    for num in arr:\n",
        "        indice_actual = abs(num) - 1\n",
        "\n",
        "        if arr[indice_actual] < 0:\n",
        "            duplicado = abs(num)\n",
        "        else:\n",
        "            arr[indice_actual] *= -1\n",
        "\n",
        "    for i, num in enumerate(arr):\n",
        "        if num > 0:\n",
        "            faltante = i + 1\n",
        "\n",
        "    return duplicado, faltante\n",
        "\n",
        "# Ejemplo de uso:\n",
        "arreglo = [3, 1, 3, 4, 2, 6,7,5,9]\n",
        "duplicado, faltante = encontrar_duplicado_y_faltante(arreglo)\n",
        "\n",
        "print(f\"El número duplicado es: {duplicado}\")\n",
        "print(f\"El número faltante es: {faltante}\")"
      ],
      "metadata": {
        "colab": {
          "base_uri": "https://localhost:8080/"
        },
        "id": "d2r_hSGgBXa3",
        "outputId": "693ccc55-3438-4f4b-8d09-249d6ed7ebae"
      },
      "execution_count": null,
      "outputs": [
        {
          "output_type": "stream",
          "name": "stdout",
          "text": [
            "El número duplicado es: 3\n",
            "El número faltante es: 8\n"
          ]
        }
      ]
    },
    {
      "cell_type": "markdown",
      "source": [
        "Falta evaluar cuando hay más de un valor repetido, es decir que además del 3, por ejemplo, el 2 está repetido, se tendría que considerando ese caso"
      ],
      "metadata": {
        "id": "04HyIGgEB08v"
      }
    },
    {
      "cell_type": "markdown",
      "source": [
        "#Ejercicio 10"
      ],
      "metadata": {
        "id": "WCu9Ns-GF4nn"
      }
    },
    {
      "cell_type": "code",
      "source": [
        "class BinaryIndexedTree:\n",
        "    def __init__(self, n):\n",
        "        self.n = n\n",
        "        self.bit = [0] * (n + 1)\n",
        "\n",
        "    def add(self, i, y):\n",
        "        i += 1  # Ajuste de índice 0-based a 1-based\n",
        "        while i <= self.n:\n",
        "            self.bit[i] += y\n",
        "            i += i & -i\n",
        "\n",
        "    def partial_sum(self, i):\n",
        "        i += 1  # Ajuste de índice 0-based a 1-based\n",
        "        result = 0\n",
        "        while i > 0:\n",
        "            result += self.bit[i]\n",
        "            i -= i & -i\n",
        "        return result\n",
        "\n",
        "# Ejemplo de uso:\n",
        "n = 10\n",
        "A = [0] * n  # Inicializar el arreglo con ceros\n",
        "bit_tree = BinaryIndexedTree(n)\n",
        "\n",
        "# Realizar operaciones\n",
        "bit_tree.add(2, 5)\n",
        "bit_tree.add(5, 3)\n",
        "bit_tree.add(7, 8)\n",
        "\n",
        "print(\"Partial Sum(3):\", bit_tree.partial_sum(3))\n",
        "print(\"Partial Sum(6):\", bit_tree.partial_sum(6))"
      ],
      "metadata": {
        "colab": {
          "base_uri": "https://localhost:8080/"
        },
        "id": "SqOp4V82F1OX",
        "outputId": "892a9112-bb15-4cf8-9ed6-ffabc5cec6dd"
      },
      "execution_count": null,
      "outputs": [
        {
          "output_type": "stream",
          "name": "stdout",
          "text": [
            "Partial Sum(3): 5\n",
            "Partial Sum(6): 8\n"
          ]
        }
      ]
    }
  ]
}